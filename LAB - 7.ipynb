{
 "cells": [
  {
   "cell_type": "code",
   "execution_count": null,
   "id": "df07202e",
   "metadata": {},
   "outputs": [],
   "source": [
    "# Lab – 7\n",
    "#  Binary Search Tree Node Search\n",
    "#  Leaf Node Sum in a Tree\n",
    "#  Spinal (Zig-Zag) Order Tree Traversal\n",
    "# The task involves printing the nodes of a binary tree in a spiral (zigzag) manner, alternating\n",
    "# between left-to-right and right-to-left traversal at each level. This problem explores tree\n",
    "# traversal techniques"
   ]
  },
  {
   "cell_type": "code",
   "execution_count": 1,
   "id": "de6258ef",
   "metadata": {},
   "outputs": [
    {
     "name": "stdout",
     "output_type": "stream",
     "text": [
      "Node with key 40 found in the BST.\n"
     ]
    }
   ],
   "source": [
    "class TreeNode:\n",
    "    def __init__(self, key):\n",
    "        self.key = key\n",
    "        self.left = None\n",
    "        self.right = None\n",
    "\n",
    "def insert(root, key):\n",
    "    if root is None:\n",
    "        return TreeNode(key)\n",
    "    else:\n",
    "        if root.key < key:\n",
    "            root.right = insert(root.right, key)\n",
    "        else:\n",
    "            root.left = insert(root.left, key)\n",
    "    return root\n",
    "\n",
    "def search(root, key):\n",
    "    if root is None or root.key == key:\n",
    "        return root\n",
    "    if root.key < key:\n",
    "        return search(root.right, key)\n",
    "    return search(root.left, key)\n",
    "\n",
    "# Example Usage:\n",
    "root = None\n",
    "keys = [50, 30, 70, 20, 40, 60, 80]\n",
    "\n",
    "for key in keys:\n",
    "    root = insert(root, key)\n",
    "\n",
    "search_key = 40\n",
    "result = search(root, search_key)\n",
    "\n",
    "if result:\n",
    "    print(f\"Node with key {search_key} found in the BST.\")\n",
    "else:\n",
    "    print(f\"Node with key {search_key} not found in the BST.\")\n"
   ]
  },
  {
   "cell_type": "code",
   "execution_count": 2,
   "id": "4d6097e8",
   "metadata": {},
   "outputs": [
    {
     "name": "stdout",
     "output_type": "stream",
     "text": [
      "Sum of leaf nodes in the tree: 30\n"
     ]
    }
   ],
   "source": [
    "class TreeNode:\n",
    "    def __init__(self, value):\n",
    "        self.value = value\n",
    "        self.left = None\n",
    "        self.right = None\n",
    "\n",
    "def leaf_node_sum(root):\n",
    "    if root is None:\n",
    "        return 0\n",
    "    if root.left is None and root.right is None:\n",
    "        return root.value\n",
    "    return leaf_node_sum(root.left) + leaf_node_sum(root.right)\n",
    "\n",
    "# Example Usage:\n",
    "# Constructing a sample binary tree\n",
    "#         10\n",
    "#        /  \\\n",
    "#       5    15\n",
    "#      / \\     \\\n",
    "#     3   7     20\n",
    "\n",
    "root = TreeNode(10)\n",
    "root.left = TreeNode(5)\n",
    "root.right = TreeNode(15)\n",
    "root.left.left = TreeNode(3)\n",
    "root.left.right = TreeNode(7)\n",
    "root.right.right = TreeNode(20)\n",
    "\n",
    "result = leaf_node_sum(root)\n",
    "print(f\"Sum of leaf nodes in the tree: {result}\")\n"
   ]
  },
  {
   "cell_type": "code",
   "execution_count": 3,
   "id": "537c29b9",
   "metadata": {},
   "outputs": [
    {
     "name": "stdout",
     "output_type": "stream",
     "text": [
      "Zig-Zag Order Traversal: [[1], [3, 2], [4, 5, 6, 7]]\n"
     ]
    }
   ],
   "source": [
    "class TreeNode:\n",
    "    def __init__(self, value):\n",
    "        self.value = value\n",
    "        self.left = None\n",
    "        self.right = None\n",
    "\n",
    "def zigzag_traversal(root):\n",
    "    if not root:\n",
    "        return []\n",
    "\n",
    "    result = []\n",
    "    queue = [root]\n",
    "    left_to_right = True\n",
    "\n",
    "    while queue:\n",
    "        current_level = []\n",
    "        level_size = len(queue)\n",
    "\n",
    "        for _ in range(level_size):\n",
    "            if left_to_right:\n",
    "                node = queue.pop(0)\n",
    "                current_level.append(node.value)\n",
    "                if node.left:\n",
    "                    queue.append(node.left)\n",
    "                if node.right:\n",
    "                    queue.append(node.right)\n",
    "            else:\n",
    "                node = queue.pop()\n",
    "                current_level.append(node.value)\n",
    "                if node.right:\n",
    "                    queue.insert(0, node.right)\n",
    "                if node.left:\n",
    "                    queue.insert(0, node.left)\n",
    "\n",
    "        result.append(current_level)\n",
    "        left_to_right = not left_to_right\n",
    "\n",
    "    return result\n",
    "\n",
    "# Example Usage:\n",
    "# Constructing a sample binary tree\n",
    "#         1\n",
    "#        / \\\n",
    "#       2   3\n",
    "#      / \\ / \\\n",
    "#     4  5 6  7\n",
    "\n",
    "root = TreeNode(1)\n",
    "root.left = TreeNode(2)\n",
    "root.right = TreeNode(3)\n",
    "root.left.left = TreeNode(4)\n",
    "root.left.right = TreeNode(5)\n",
    "root.right.left = TreeNode(6)\n",
    "root.right.right = TreeNode(7)\n",
    "\n",
    "result = zigzag_traversal(root)\n",
    "print(\"Zig-Zag Order Traversal:\", result)\n"
   ]
  },
  {
   "cell_type": "code",
   "execution_count": null,
   "id": "623a0a21",
   "metadata": {},
   "outputs": [],
   "source": []
  }
 ],
 "metadata": {
  "kernelspec": {
   "display_name": "Python 3 (ipykernel)",
   "language": "python",
   "name": "python3"
  },
  "language_info": {
   "codemirror_mode": {
    "name": "ipython",
    "version": 3
   },
   "file_extension": ".py",
   "mimetype": "text/x-python",
   "name": "python",
   "nbconvert_exporter": "python",
   "pygments_lexer": "ipython3",
   "version": "3.9.12"
  }
 },
 "nbformat": 4,
 "nbformat_minor": 5
}
