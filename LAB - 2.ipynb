{
 "cells": [
  {
   "cell_type": "code",
   "execution_count": null,
   "id": "1c6c8d80",
   "metadata": {},
   "outputs": [],
   "source": [
    "Lab – 2\n",
    " Triplet and their Sum\n",
    "A triplet is a set of three elements in a sequence or array. Finding triplets involves identifying\n",
    "combinations of three elements whose sum meets a specified criterion. (Sorting)\n",
    " Sorting an Array\n",
    "In the given example, the array with values [0, 0, 1, 2, 0, 1, 2, 2, 1] is sorted in a way that\n",
    "groups identical elements together, resulting in the output [0, 0, 0, 1, 1, 1, 2, 2, 2]. This\n",
    "sorting method is often used for arrays containing a limited set of distinct values.\n"
   ]
  },
  {
   "cell_type": "code",
   "execution_count": 2,
   "id": "9161a93e",
   "metadata": {},
   "outputs": [
    {
     "name": "stdout",
     "output_type": "stream",
     "text": [
      "Triplets with sum 22: [(4, 8, 10)]\n"
     ]
    }
   ],
   "source": [
    "def find_triplets(arr, target_sum):\n",
    "    arr.sort()\n",
    "    triplets = []\n",
    "\n",
    "    for i in range(len(arr) - 2):\n",
    "        left = i + 1\n",
    "        right = len(arr) - 1\n",
    "\n",
    "        while left < right:\n",
    "            current_sum = arr[i] + arr[left] + arr[right]\n",
    "\n",
    "            if current_sum == target_sum:\n",
    "                triplets.append((arr[i], arr[left], arr[right]))\n",
    "                left += 1\n",
    "                right -= 1\n",
    "            elif current_sum < target_sum:\n",
    "                left += 1\n",
    "            else:\n",
    "                right -= 1\n",
    "\n",
    "    return triplets\n",
    "\n",
    "# Example Usage:\n",
    "input_array = [1, 4, 45, 6, 10, 8]\n",
    "target_sum = 22\n",
    "result_triplets = find_triplets(input_array, target_sum)\n",
    "\n",
    "print(f\"Triplets with sum {target_sum}: {result_triplets}\")\n"
   ]
  },
  {
   "cell_type": "code",
   "execution_count": 3,
   "id": "915145b8",
   "metadata": {},
   "outputs": [
    {
     "name": "stdout",
     "output_type": "stream",
     "text": [
      "Sorted Array: [0, 0, 0, 1, 1, 1, 2, 2, 2]\n"
     ]
    }
   ],
   "source": [
    "def sort_array(arr):\n",
    "    low, mid, high = 0, 0, len(arr) - 1\n",
    "\n",
    "    while mid <= high:\n",
    "        if arr[mid] == 0:\n",
    "            arr[low], arr[mid] = arr[mid], arr[low]\n",
    "            low += 1\n",
    "            mid += 1\n",
    "        elif arr[mid] == 1:\n",
    "            mid += 1\n",
    "        else:\n",
    "            arr[mid], arr[high] = arr[high], arr[mid]\n",
    "            high -= 1\n",
    "\n",
    "# Example Usage:\n",
    "input_array = [0, 0, 1, 2, 0, 1, 2, 2, 1]\n",
    "sort_array(input_array)\n",
    "\n",
    "print(\"Sorted Array:\", input_array)\n"
   ]
  },
  {
   "cell_type": "code",
   "execution_count": null,
   "id": "959e1513",
   "metadata": {},
   "outputs": [],
   "source": []
  }
 ],
 "metadata": {
  "kernelspec": {
   "display_name": "Python 3 (ipykernel)",
   "language": "python",
   "name": "python3"
  },
  "language_info": {
   "codemirror_mode": {
    "name": "ipython",
    "version": 3
   },
   "file_extension": ".py",
   "mimetype": "text/x-python",
   "name": "python",
   "nbconvert_exporter": "python",
   "pygments_lexer": "ipython3",
   "version": "3.9.12"
  }
 },
 "nbformat": 4,
 "nbformat_minor": 5
}
