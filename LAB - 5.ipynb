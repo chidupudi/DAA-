{
 "cells": [
  {
   "cell_type": "code",
   "execution_count": null,
   "id": "184cbcfe",
   "metadata": {},
   "outputs": [],
   "source": [
    "# Lab – 5\n",
    "#  ROWS With Most No of One's\n",
    "#  Middle Row and Column Sum\n",
    "# The task is to calculate the sum of the middle row and middle column in a matrix, involving\n",
    "# finding the central elements and adding up their respective rows and columns. This problem\n",
    "# is relevant in array manipulation and matrix operations.\n"
   ]
  },
  {
   "cell_type": "code",
   "execution_count": 1,
   "id": "34085db3",
   "metadata": {},
   "outputs": [
    {
     "name": "stdout",
     "output_type": "stream",
     "text": [
      "Row 2 has the most number of ones.\n"
     ]
    }
   ],
   "source": [
    "def find_row_with_most_ones(matrix):\n",
    "    max_ones_count = 0\n",
    "    row_with_most_ones = -1\n",
    "\n",
    "    for i, row in enumerate(matrix):\n",
    "        ones_count = row.count(1)\n",
    "        if ones_count > max_ones_count:\n",
    "            max_ones_count = ones_count\n",
    "            row_with_most_ones = i\n",
    "\n",
    "    return row_with_most_ones\n",
    "\n",
    "# Example Usage:\n",
    "binary_matrix = [\n",
    "    [0, 1, 1, 1],\n",
    "    [1, 1, 1, 1],\n",
    "    [0, 0, 1, 1],\n",
    "    [1, 0, 1, 1]\n",
    "]\n",
    "\n",
    "result_row = find_row_with_most_ones(binary_matrix)\n",
    "\n",
    "if result_row != -1:\n",
    "    print(f\"Row {result_row + 1} has the most number of ones.\")\n",
    "else:\n",
    "    print(\"Matrix is empty.\")\n"
   ]
  },
  {
   "cell_type": "code",
   "execution_count": 2,
   "id": "a6128eed",
   "metadata": {},
   "outputs": [
    {
     "name": "stdout",
     "output_type": "stream",
     "text": [
      "Matrix should have an odd number of rows and columns.\n"
     ]
    }
   ],
   "source": [
    "def calculate_middle_sum(matrix):\n",
    "    rows, cols = len(matrix), len(matrix[0])\n",
    "\n",
    "    # Check if the matrix has an odd number of rows and columns\n",
    "    if rows % 2 == 0 or cols % 2 == 0:\n",
    "        return \"Matrix should have an odd number of rows and columns.\"\n",
    "\n",
    "    middle_row = rows // 2\n",
    "    middle_col = cols // 2\n",
    "\n",
    "    middle_row_sum = sum(matrix[middle_row])\n",
    "    middle_col_sum = sum(row[middle_col] for row in matrix)\n",
    "\n",
    "    return middle_row_sum, middle_col_sum\n",
    "\n",
    "# Example Usage:\n",
    "example_matrix = [\n",
    "    [1, 2, 3, 4],\n",
    "    [5, 6, 7, 8],\n",
    "    [9, 10, 11, 12],\n",
    "    [13, 14, 15, 16]\n",
    "]\n",
    "\n",
    "result = calculate_middle_sum(example_matrix)\n",
    "\n",
    "if isinstance(result, tuple):\n",
    "    middle_row_sum, middle_col_sum = result\n",
    "    print(f\"Sum of the middle row: {middle_row_sum}\")\n",
    "    print(f\"Sum of the middle column: {middle_col_sum}\")\n",
    "else:\n",
    "    print(result)\n"
   ]
  },
  {
   "cell_type": "code",
   "execution_count": null,
   "id": "48509d56",
   "metadata": {},
   "outputs": [],
   "source": []
  }
 ],
 "metadata": {
  "kernelspec": {
   "display_name": "Python 3 (ipykernel)",
   "language": "python",
   "name": "python3"
  },
  "language_info": {
   "codemirror_mode": {
    "name": "ipython",
    "version": 3
   },
   "file_extension": ".py",
   "mimetype": "text/x-python",
   "name": "python",
   "nbconvert_exporter": "python",
   "pygments_lexer": "ipython3",
   "version": "3.9.12"
  }
 },
 "nbformat": 4,
 "nbformat_minor": 5
}
