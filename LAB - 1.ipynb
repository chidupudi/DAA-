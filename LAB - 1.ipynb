{
 "cells": [
  {
   "cell_type": "code",
   "execution_count": null,
   "id": "3d827a54",
   "metadata": {},
   "outputs": [],
   "source": [
    "Lab – 1\n",
    " Leader Array\n",
    "A leader in an array is an element greater than or equal to all elements to its right. It is\n",
    "identified by scanning the array from right to left, updating a maximum variable as leaders\n",
    "are found.\n",
    " Sorting Array\n",
    "Given an array, the task is to sort it and create an output sequence that alternates between\n",
    "the smallest and largest numbers. For example, for the array [3, 1, 4, 1, 5, 9, 2, 6, 5, 3, 5],\n",
    "the output would be [1, 9, 1, 6, 2, 5, 3, 5, 4, 5, 3].\n"
   ]
  },
  {
   "cell_type": "code",
   "execution_count": 1,
   "id": "a94c0ca2",
   "metadata": {},
   "outputs": [
    {
     "name": "stdout",
     "output_type": "stream",
     "text": [
      "Leaders in the array: [17, 5, 2]\n"
     ]
    }
   ],
   "source": [
    "def find_leaders(arr):\n",
    "    n = len(arr)\n",
    "    leaders = []\n",
    "\n",
    "    max_right = arr[n - 1]\n",
    "    leaders.append(max_right)\n",
    "\n",
    "    for i in range(n - 2, -1, -1):\n",
    "        if arr[i] >= max_right:\n",
    "            max_right = arr[i]\n",
    "            leaders.append(max_right)\n",
    "\n",
    "    leaders.reverse()\n",
    "    return leaders\n",
    "\n",
    "# Example Usage:\n",
    "arr = [16, 17, 4, 3, 5, 2]\n",
    "result = find_leaders(arr)\n",
    "print(\"Leaders in the array:\", result)\n"
   ]
  },
  {
   "cell_type": "code",
   "execution_count": 2,
   "id": "cbea741f",
   "metadata": {},
   "outputs": [
    {
     "name": "stdout",
     "output_type": "stream",
     "text": [
      "Output Sequence: [1, 9, 1, 6, 2, 5, 3, 5, 3, 5, 4]\n"
     ]
    }
   ],
   "source": [
    "def alternate_sort(arr):\n",
    "    arr.sort()\n",
    "    n = len(arr)\n",
    "    result = []\n",
    "\n",
    "    i, j = 0, n - 1\n",
    "\n",
    "    while i <= j:\n",
    "        if i == j:\n",
    "            result.append(arr[i])\n",
    "        else:\n",
    "            result.append(arr[i])\n",
    "            result.append(arr[j])\n",
    "\n",
    "        i += 1\n",
    "        j -= 1\n",
    "\n",
    "    return result\n",
    "\n",
    "# Example Usage:\n",
    "input_array = [3, 1, 4, 1, 5, 9, 2, 6, 5, 3, 5]\n",
    "output_sequence = alternate_sort(input_array)\n",
    "print(\"Output Sequence:\", output_sequence)\n"
   ]
  },
  {
   "cell_type": "code",
   "execution_count": null,
   "id": "11606b4c",
   "metadata": {},
   "outputs": [],
   "source": []
  }
 ],
 "metadata": {
  "kernelspec": {
   "display_name": "Python 3 (ipykernel)",
   "language": "python",
   "name": "python3"
  },
  "language_info": {
   "codemirror_mode": {
    "name": "ipython",
    "version": 3
   },
   "file_extension": ".py",
   "mimetype": "text/x-python",
   "name": "python",
   "nbconvert_exporter": "python",
   "pygments_lexer": "ipython3",
   "version": "3.9.12"
  }
 },
 "nbformat": 4,
 "nbformat_minor": 5
}
