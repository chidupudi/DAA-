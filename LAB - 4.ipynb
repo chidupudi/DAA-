{
 "cells": [
  {
   "cell_type": "code",
   "execution_count": null,
   "id": "886168a1",
   "metadata": {},
   "outputs": [],
   "source": [
    "# Lab – 4\n",
    "#  Diagonal Interchange\n",
    "# The task is to interchange the values of the left and right diagonals in a square matrix,\n",
    "# achieved by swapping the corner elements of the matrix.\n",
    "#  Index Finder\n",
    "# Given an array, the task is to display the indices of a specified number in the array. This\n",
    "# involves finding the occurrences of the number and returning their respective indices.\n"
   ]
  },
  {
   "cell_type": "code",
   "execution_count": 1,
   "id": "02f33b4c",
   "metadata": {},
   "outputs": [
    {
     "name": "stdout",
     "output_type": "stream",
     "text": [
      "Original Matrix:\n",
      "[1, 2, 3]\n",
      "[4, 5, 6]\n",
      "[7, 8, 9]\n",
      "\n",
      "Matrix after Diagonal Interchange:\n",
      "[3, 2, 1]\n",
      "[4, 5, 6]\n",
      "[9, 8, 7]\n"
     ]
    }
   ],
   "source": [
    "def diagonal_interchange(matrix):\n",
    "    n = len(matrix)\n",
    "    \n",
    "    for i in range(n):\n",
    "        matrix[i][i], matrix[i][n - 1 - i] = matrix[i][n - 1 - i], matrix[i][i]\n",
    "\n",
    "# Example Usage:\n",
    "matrix = [\n",
    "    [1, 2, 3],\n",
    "    [4, 5, 6],\n",
    "    [7, 8, 9]\n",
    "]\n",
    "\n",
    "print(\"Original Matrix:\")\n",
    "for row in matrix:\n",
    "    print(row)\n",
    "\n",
    "diagonal_interchange(matrix)\n",
    "\n",
    "print(\"\\nMatrix after Diagonal Interchange:\")\n",
    "for row in matrix:\n",
    "    print(row)\n"
   ]
  },
  {
   "cell_type": "code",
   "execution_count": 2,
   "id": "7f469063",
   "metadata": {},
   "outputs": [
    {
     "name": "stdout",
     "output_type": "stream",
     "text": [
      "The indices of 5 in the array are: [2, 5, 7]\n"
     ]
    }
   ],
   "source": [
    "def find_indices(arr, target):\n",
    "    indices = [i for i, num in enumerate(arr) if num == target]\n",
    "    return indices\n",
    "\n",
    "# Example Usage:\n",
    "array = [1, 3, 5, 2, 7, 5, 9, 5]\n",
    "target_number = 5\n",
    "\n",
    "result = find_indices(array, target_number)\n",
    "\n",
    "if result:\n",
    "    print(f\"The indices of {target_number} in the array are: {result}\")\n",
    "else:\n",
    "    print(f\"{target_number} not found in the array.\")\n"
   ]
  },
  {
   "cell_type": "code",
   "execution_count": null,
   "id": "2e041273",
   "metadata": {},
   "outputs": [],
   "source": []
  }
 ],
 "metadata": {
  "kernelspec": {
   "display_name": "Python 3 (ipykernel)",
   "language": "python",
   "name": "python3"
  },
  "language_info": {
   "codemirror_mode": {
    "name": "ipython",
    "version": 3
   },
   "file_extension": ".py",
   "mimetype": "text/x-python",
   "name": "python",
   "nbconvert_exporter": "python",
   "pygments_lexer": "ipython3",
   "version": "3.9.12"
  }
 },
 "nbformat": 4,
 "nbformat_minor": 5
}
