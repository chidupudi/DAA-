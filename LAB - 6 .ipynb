{
 "cells": [
  {
   "cell_type": "code",
   "execution_count": null,
   "id": "64c873d5",
   "metadata": {},
   "outputs": [],
   "source": [
    "# Lab – 6\n",
    "#  Matrix Sorting and Diagonal Replacement\n",
    "# The task is to sort a matrix without using any Python built-in libraries and subsequently\n",
    "# replace both left and right diagonals with zeros. This problem involves custom sorting\n",
    "# algorithms and matrix manipulation.\n",
    "#  Integer Multiplication without Operators"
   ]
  },
  {
   "cell_type": "code",
   "execution_count": 1,
   "id": "24360062",
   "metadata": {},
   "outputs": [
    {
     "name": "stdout",
     "output_type": "stream",
     "text": [
      "Original Matrix:\n",
      "[3, 1, 4]\n",
      "[1, 5, 9]\n",
      "[2, 6, 5]\n",
      "\n",
      "Matrix After Sorting and Diagonal Replacement:\n",
      "[9, 1, 2]\n",
      "[3, 9, 5]\n",
      "[5, 6, 9]\n"
     ]
    }
   ],
   "source": [
    "def print_matrix(matrix):\n",
    "    for row in matrix:\n",
    "        print(row)\n",
    "\n",
    "def sort_matrix_and_replace_diagonal(matrix):\n",
    "    # Flatten the matrix, sort it, and update the matrix\n",
    "    flattened_matrix = sorted([element for row in matrix for element in row])\n",
    "    for i in range(len(matrix)):\n",
    "        for j in range(len(matrix[0])):\n",
    "            matrix[i][j] = flattened_matrix.pop(0)\n",
    "\n",
    "    # Replace diagonal elements with the maximum value of the matrix\n",
    "    max_value = max(max(row) for row in matrix)\n",
    "    for i in range(len(matrix)):\n",
    "        matrix[i][i] = max_value\n",
    "\n",
    "    return matrix\n",
    "\n",
    "# Example Usage:\n",
    "example_matrix = [\n",
    "    [3, 1, 4],\n",
    "    [1, 5, 9],\n",
    "    [2, 6, 5]\n",
    "]\n",
    "\n",
    "print(\"Original Matrix:\")\n",
    "print_matrix(example_matrix)\n",
    "\n",
    "sorted_and_replaced_matrix = sort_matrix_and_replace_diagonal(example_matrix)\n",
    "\n",
    "print(\"\\nMatrix After Sorting and Diagonal Replacement:\")\n",
    "print_matrix(sorted_and_replaced_matrix)\n"
   ]
  },
  {
   "cell_type": "code",
   "execution_count": 2,
   "id": "8bc12462",
   "metadata": {},
   "outputs": [
    {
     "name": "stdout",
     "output_type": "stream",
     "text": [
      "The product of 5 and 7 is: 35\n"
     ]
    }
   ],
   "source": [
    "def multiply(a, b):\n",
    "    result = 0\n",
    "    # Check for negative numbers\n",
    "    sign = -1 if (a < 0) ^ (b < 0) else 1\n",
    "    a = abs(a)\n",
    "    b = abs(b)\n",
    "\n",
    "    while b > 0:\n",
    "        if b % 2 == 1:\n",
    "            result += a\n",
    "        a <<= 1  # Left shift to double 'a'\n",
    "        b >>= 1  # Right shift to divide 'b'\n",
    "\n",
    "    return sign * result\n",
    "\n",
    "# Example Usage:\n",
    "num1 = 5\n",
    "num2 = 7\n",
    "result = multiply(num1, num2)\n",
    "\n",
    "print(f\"The product of {num1} and {num2} is: {result}\")\n"
   ]
  },
  {
   "cell_type": "code",
   "execution_count": null,
   "id": "2466d8db",
   "metadata": {},
   "outputs": [],
   "source": []
  }
 ],
 "metadata": {
  "kernelspec": {
   "display_name": "Python 3 (ipykernel)",
   "language": "python",
   "name": "python3"
  },
  "language_info": {
   "codemirror_mode": {
    "name": "ipython",
    "version": 3
   },
   "file_extension": ".py",
   "mimetype": "text/x-python",
   "name": "python",
   "nbconvert_exporter": "python",
   "pygments_lexer": "ipython3",
   "version": "3.9.12"
  }
 },
 "nbformat": 4,
 "nbformat_minor": 5
}
